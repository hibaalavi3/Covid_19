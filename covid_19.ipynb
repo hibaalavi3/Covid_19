{
 "cells": [
  {
   "cell_type": "code",
   "execution_count": 44,
   "metadata": {},
   "outputs": [],
   "source": [
    "# Step 1: Import necessary libraries\n",
    "import pandas as pd\n",
    "import numpy as np\n",
    "import matplotlib.pyplot as plt\n",
    "import seaborn as sns\n",
    "import warnings\n",
    "warnings.filterwarnings(\"ignore\")"
   ]
  },
  {
   "cell_type": "code",
   "execution_count": 45,
   "metadata": {},
   "outputs": [],
   "source": [
    "# Step 2: Load the dataset\n",
    "df=pd.read_csv(\"owid-covid-data.csv\")"
   ]
  },
  {
   "cell_type": "code",
   "execution_count": 46,
   "metadata": {},
   "outputs": [
    {
     "data": {
      "application/vnd.microsoft.datawrangler.viewer.v0+json": {
       "columns": [
        {
         "name": "index",
         "rawType": "int64",
         "type": "integer"
        },
        {
         "name": "iso_code",
         "rawType": "object",
         "type": "string"
        },
        {
         "name": "continent",
         "rawType": "object",
         "type": "string"
        },
        {
         "name": "location",
         "rawType": "object",
         "type": "string"
        },
        {
         "name": "date",
         "rawType": "object",
         "type": "string"
        },
        {
         "name": "total_cases",
         "rawType": "float64",
         "type": "float"
        },
        {
         "name": "new_cases",
         "rawType": "float64",
         "type": "float"
        },
        {
         "name": "new_cases_smoothed",
         "rawType": "float64",
         "type": "float"
        },
        {
         "name": "total_deaths",
         "rawType": "float64",
         "type": "float"
        },
        {
         "name": "new_deaths",
         "rawType": "float64",
         "type": "float"
        },
        {
         "name": "new_deaths_smoothed",
         "rawType": "float64",
         "type": "float"
        },
        {
         "name": "total_cases_per_million",
         "rawType": "float64",
         "type": "float"
        },
        {
         "name": "new_cases_per_million",
         "rawType": "float64",
         "type": "float"
        },
        {
         "name": "new_cases_smoothed_per_million",
         "rawType": "float64",
         "type": "float"
        },
        {
         "name": "total_deaths_per_million",
         "rawType": "float64",
         "type": "float"
        },
        {
         "name": "new_deaths_per_million",
         "rawType": "float64",
         "type": "float"
        },
        {
         "name": "new_deaths_smoothed_per_million",
         "rawType": "float64",
         "type": "float"
        },
        {
         "name": "reproduction_rate",
         "rawType": "float64",
         "type": "float"
        },
        {
         "name": "icu_patients",
         "rawType": "float64",
         "type": "float"
        },
        {
         "name": "icu_patients_per_million",
         "rawType": "float64",
         "type": "float"
        },
        {
         "name": "hosp_patients",
         "rawType": "float64",
         "type": "float"
        },
        {
         "name": "hosp_patients_per_million",
         "rawType": "float64",
         "type": "float"
        },
        {
         "name": "weekly_icu_admissions",
         "rawType": "float64",
         "type": "float"
        },
        {
         "name": "weekly_icu_admissions_per_million",
         "rawType": "float64",
         "type": "float"
        },
        {
         "name": "weekly_hosp_admissions",
         "rawType": "float64",
         "type": "float"
        },
        {
         "name": "weekly_hosp_admissions_per_million",
         "rawType": "float64",
         "type": "float"
        },
        {
         "name": "total_tests",
         "rawType": "float64",
         "type": "float"
        },
        {
         "name": "new_tests",
         "rawType": "float64",
         "type": "float"
        },
        {
         "name": "total_tests_per_thousand",
         "rawType": "float64",
         "type": "float"
        },
        {
         "name": "new_tests_per_thousand",
         "rawType": "float64",
         "type": "float"
        },
        {
         "name": "new_tests_smoothed",
         "rawType": "float64",
         "type": "float"
        },
        {
         "name": "new_tests_smoothed_per_thousand",
         "rawType": "float64",
         "type": "float"
        },
        {
         "name": "positive_rate",
         "rawType": "float64",
         "type": "float"
        },
        {
         "name": "tests_per_case",
         "rawType": "float64",
         "type": "float"
        },
        {
         "name": "tests_units",
         "rawType": "object",
         "type": "unknown"
        },
        {
         "name": "total_vaccinations",
         "rawType": "float64",
         "type": "float"
        },
        {
         "name": "people_vaccinated",
         "rawType": "float64",
         "type": "float"
        },
        {
         "name": "people_fully_vaccinated",
         "rawType": "float64",
         "type": "float"
        },
        {
         "name": "total_boosters",
         "rawType": "float64",
         "type": "float"
        },
        {
         "name": "new_vaccinations",
         "rawType": "float64",
         "type": "float"
        },
        {
         "name": "new_vaccinations_smoothed",
         "rawType": "float64",
         "type": "float"
        },
        {
         "name": "total_vaccinations_per_hundred",
         "rawType": "float64",
         "type": "float"
        },
        {
         "name": "people_vaccinated_per_hundred",
         "rawType": "float64",
         "type": "float"
        },
        {
         "name": "people_fully_vaccinated_per_hundred",
         "rawType": "float64",
         "type": "float"
        },
        {
         "name": "total_boosters_per_hundred",
         "rawType": "float64",
         "type": "float"
        },
        {
         "name": "new_vaccinations_smoothed_per_million",
         "rawType": "float64",
         "type": "float"
        },
        {
         "name": "new_people_vaccinated_smoothed",
         "rawType": "float64",
         "type": "float"
        },
        {
         "name": "new_people_vaccinated_smoothed_per_hundred",
         "rawType": "float64",
         "type": "float"
        },
        {
         "name": "stringency_index",
         "rawType": "float64",
         "type": "float"
        },
        {
         "name": "population_density",
         "rawType": "float64",
         "type": "float"
        },
        {
         "name": "median_age",
         "rawType": "float64",
         "type": "float"
        },
        {
         "name": "aged_65_older",
         "rawType": "float64",
         "type": "float"
        },
        {
         "name": "aged_70_older",
         "rawType": "float64",
         "type": "float"
        },
        {
         "name": "gdp_per_capita",
         "rawType": "float64",
         "type": "float"
        },
        {
         "name": "extreme_poverty",
         "rawType": "float64",
         "type": "float"
        },
        {
         "name": "cardiovasc_death_rate",
         "rawType": "float64",
         "type": "float"
        },
        {
         "name": "diabetes_prevalence",
         "rawType": "float64",
         "type": "float"
        },
        {
         "name": "female_smokers",
         "rawType": "float64",
         "type": "float"
        },
        {
         "name": "male_smokers",
         "rawType": "float64",
         "type": "float"
        },
        {
         "name": "handwashing_facilities",
         "rawType": "float64",
         "type": "float"
        },
        {
         "name": "hospital_beds_per_thousand",
         "rawType": "float64",
         "type": "float"
        },
        {
         "name": "life_expectancy",
         "rawType": "float64",
         "type": "float"
        },
        {
         "name": "human_development_index",
         "rawType": "float64",
         "type": "float"
        },
        {
         "name": "population",
         "rawType": "int64",
         "type": "integer"
        },
        {
         "name": "excess_mortality_cumulative_absolute",
         "rawType": "float64",
         "type": "float"
        },
        {
         "name": "excess_mortality_cumulative",
         "rawType": "float64",
         "type": "float"
        },
        {
         "name": "excess_mortality",
         "rawType": "float64",
         "type": "float"
        },
        {
         "name": "excess_mortality_cumulative_per_million",
         "rawType": "float64",
         "type": "float"
        }
       ],
       "ref": "5cfb644a-30c4-49b6-8141-8f04eb1d0b73",
       "rows": [
        [
         "0",
         "AFG",
         "Asia",
         "Afghanistan",
         "2020-01-05",
         "0.0",
         "0.0",
         null,
         "0.0",
         "0.0",
         null,
         "0.0",
         "0.0",
         null,
         "0.0",
         "0.0",
         null,
         null,
         null,
         null,
         null,
         null,
         null,
         null,
         null,
         null,
         null,
         null,
         null,
         null,
         null,
         null,
         null,
         null,
         null,
         null,
         null,
         null,
         null,
         null,
         null,
         null,
         null,
         null,
         null,
         null,
         null,
         null,
         "0.0",
         "54.42",
         "18.6",
         "2.58",
         "1.34",
         "1803.99",
         null,
         "597.03",
         "9.59",
         null,
         null,
         "37.75",
         "0.5",
         "64.83",
         "0.51",
         "41128772",
         null,
         null,
         null,
         null
        ],
        [
         "1",
         "AFG",
         "Asia",
         "Afghanistan",
         "2020-01-06",
         "0.0",
         "0.0",
         null,
         "0.0",
         "0.0",
         null,
         "0.0",
         "0.0",
         null,
         "0.0",
         "0.0",
         null,
         null,
         null,
         null,
         null,
         null,
         null,
         null,
         null,
         null,
         null,
         null,
         null,
         null,
         null,
         null,
         null,
         null,
         null,
         null,
         null,
         null,
         null,
         null,
         null,
         null,
         null,
         null,
         null,
         null,
         null,
         null,
         "0.0",
         "54.42",
         "18.6",
         "2.58",
         "1.34",
         "1803.99",
         null,
         "597.03",
         "9.59",
         null,
         null,
         "37.75",
         "0.5",
         "64.83",
         "0.51",
         "41128772",
         null,
         null,
         null,
         null
        ],
        [
         "2",
         "AFG",
         "Asia",
         "Afghanistan",
         "2020-01-07",
         "0.0",
         "0.0",
         null,
         "0.0",
         "0.0",
         null,
         "0.0",
         "0.0",
         null,
         "0.0",
         "0.0",
         null,
         null,
         null,
         null,
         null,
         null,
         null,
         null,
         null,
         null,
         null,
         null,
         null,
         null,
         null,
         null,
         null,
         null,
         null,
         null,
         null,
         null,
         null,
         null,
         null,
         null,
         null,
         null,
         null,
         null,
         null,
         null,
         "0.0",
         "54.42",
         "18.6",
         "2.58",
         "1.34",
         "1803.99",
         null,
         "597.03",
         "9.59",
         null,
         null,
         "37.75",
         "0.5",
         "64.83",
         "0.51",
         "41128772",
         null,
         null,
         null,
         null
        ],
        [
         "3",
         "AFG",
         "Asia",
         "Afghanistan",
         "2020-01-08",
         "0.0",
         "0.0",
         null,
         "0.0",
         "0.0",
         null,
         "0.0",
         "0.0",
         null,
         "0.0",
         "0.0",
         null,
         null,
         null,
         null,
         null,
         null,
         null,
         null,
         null,
         null,
         null,
         null,
         null,
         null,
         null,
         null,
         null,
         null,
         null,
         null,
         null,
         null,
         null,
         null,
         null,
         null,
         null,
         null,
         null,
         null,
         null,
         null,
         "0.0",
         "54.42",
         "18.6",
         "2.58",
         "1.34",
         "1803.99",
         null,
         "597.03",
         "9.59",
         null,
         null,
         "37.75",
         "0.5",
         "64.83",
         "0.51",
         "41128772",
         null,
         null,
         null,
         null
        ],
        [
         "4",
         "AFG",
         "Asia",
         "Afghanistan",
         "2020-01-09",
         "0.0",
         "0.0",
         null,
         "0.0",
         "0.0",
         null,
         "0.0",
         "0.0",
         null,
         "0.0",
         "0.0",
         null,
         null,
         null,
         null,
         null,
         null,
         null,
         null,
         null,
         null,
         null,
         null,
         null,
         null,
         null,
         null,
         null,
         null,
         null,
         null,
         null,
         null,
         null,
         null,
         null,
         null,
         null,
         null,
         null,
         null,
         null,
         null,
         "0.0",
         "54.42",
         "18.6",
         "2.58",
         "1.34",
         "1803.99",
         null,
         "597.03",
         "9.59",
         null,
         null,
         "37.75",
         "0.5",
         "64.83",
         "0.51",
         "41128772",
         null,
         null,
         null,
         null
        ]
       ],
       "shape": {
        "columns": 67,
        "rows": 5
       }
      },
      "text/html": [
       "<div>\n",
       "<style scoped>\n",
       "    .dataframe tbody tr th:only-of-type {\n",
       "        vertical-align: middle;\n",
       "    }\n",
       "\n",
       "    .dataframe tbody tr th {\n",
       "        vertical-align: top;\n",
       "    }\n",
       "\n",
       "    .dataframe thead th {\n",
       "        text-align: right;\n",
       "    }\n",
       "</style>\n",
       "<table border=\"1\" class=\"dataframe\">\n",
       "  <thead>\n",
       "    <tr style=\"text-align: right;\">\n",
       "      <th></th>\n",
       "      <th>iso_code</th>\n",
       "      <th>continent</th>\n",
       "      <th>location</th>\n",
       "      <th>date</th>\n",
       "      <th>total_cases</th>\n",
       "      <th>new_cases</th>\n",
       "      <th>new_cases_smoothed</th>\n",
       "      <th>total_deaths</th>\n",
       "      <th>new_deaths</th>\n",
       "      <th>new_deaths_smoothed</th>\n",
       "      <th>...</th>\n",
       "      <th>male_smokers</th>\n",
       "      <th>handwashing_facilities</th>\n",
       "      <th>hospital_beds_per_thousand</th>\n",
       "      <th>life_expectancy</th>\n",
       "      <th>human_development_index</th>\n",
       "      <th>population</th>\n",
       "      <th>excess_mortality_cumulative_absolute</th>\n",
       "      <th>excess_mortality_cumulative</th>\n",
       "      <th>excess_mortality</th>\n",
       "      <th>excess_mortality_cumulative_per_million</th>\n",
       "    </tr>\n",
       "  </thead>\n",
       "  <tbody>\n",
       "    <tr>\n",
       "      <th>0</th>\n",
       "      <td>AFG</td>\n",
       "      <td>Asia</td>\n",
       "      <td>Afghanistan</td>\n",
       "      <td>2020-01-05</td>\n",
       "      <td>0.0</td>\n",
       "      <td>0.0</td>\n",
       "      <td>NaN</td>\n",
       "      <td>0.0</td>\n",
       "      <td>0.0</td>\n",
       "      <td>NaN</td>\n",
       "      <td>...</td>\n",
       "      <td>NaN</td>\n",
       "      <td>37.75</td>\n",
       "      <td>0.5</td>\n",
       "      <td>64.83</td>\n",
       "      <td>0.51</td>\n",
       "      <td>41128772</td>\n",
       "      <td>NaN</td>\n",
       "      <td>NaN</td>\n",
       "      <td>NaN</td>\n",
       "      <td>NaN</td>\n",
       "    </tr>\n",
       "    <tr>\n",
       "      <th>1</th>\n",
       "      <td>AFG</td>\n",
       "      <td>Asia</td>\n",
       "      <td>Afghanistan</td>\n",
       "      <td>2020-01-06</td>\n",
       "      <td>0.0</td>\n",
       "      <td>0.0</td>\n",
       "      <td>NaN</td>\n",
       "      <td>0.0</td>\n",
       "      <td>0.0</td>\n",
       "      <td>NaN</td>\n",
       "      <td>...</td>\n",
       "      <td>NaN</td>\n",
       "      <td>37.75</td>\n",
       "      <td>0.5</td>\n",
       "      <td>64.83</td>\n",
       "      <td>0.51</td>\n",
       "      <td>41128772</td>\n",
       "      <td>NaN</td>\n",
       "      <td>NaN</td>\n",
       "      <td>NaN</td>\n",
       "      <td>NaN</td>\n",
       "    </tr>\n",
       "    <tr>\n",
       "      <th>2</th>\n",
       "      <td>AFG</td>\n",
       "      <td>Asia</td>\n",
       "      <td>Afghanistan</td>\n",
       "      <td>2020-01-07</td>\n",
       "      <td>0.0</td>\n",
       "      <td>0.0</td>\n",
       "      <td>NaN</td>\n",
       "      <td>0.0</td>\n",
       "      <td>0.0</td>\n",
       "      <td>NaN</td>\n",
       "      <td>...</td>\n",
       "      <td>NaN</td>\n",
       "      <td>37.75</td>\n",
       "      <td>0.5</td>\n",
       "      <td>64.83</td>\n",
       "      <td>0.51</td>\n",
       "      <td>41128772</td>\n",
       "      <td>NaN</td>\n",
       "      <td>NaN</td>\n",
       "      <td>NaN</td>\n",
       "      <td>NaN</td>\n",
       "    </tr>\n",
       "    <tr>\n",
       "      <th>3</th>\n",
       "      <td>AFG</td>\n",
       "      <td>Asia</td>\n",
       "      <td>Afghanistan</td>\n",
       "      <td>2020-01-08</td>\n",
       "      <td>0.0</td>\n",
       "      <td>0.0</td>\n",
       "      <td>NaN</td>\n",
       "      <td>0.0</td>\n",
       "      <td>0.0</td>\n",
       "      <td>NaN</td>\n",
       "      <td>...</td>\n",
       "      <td>NaN</td>\n",
       "      <td>37.75</td>\n",
       "      <td>0.5</td>\n",
       "      <td>64.83</td>\n",
       "      <td>0.51</td>\n",
       "      <td>41128772</td>\n",
       "      <td>NaN</td>\n",
       "      <td>NaN</td>\n",
       "      <td>NaN</td>\n",
       "      <td>NaN</td>\n",
       "    </tr>\n",
       "    <tr>\n",
       "      <th>4</th>\n",
       "      <td>AFG</td>\n",
       "      <td>Asia</td>\n",
       "      <td>Afghanistan</td>\n",
       "      <td>2020-01-09</td>\n",
       "      <td>0.0</td>\n",
       "      <td>0.0</td>\n",
       "      <td>NaN</td>\n",
       "      <td>0.0</td>\n",
       "      <td>0.0</td>\n",
       "      <td>NaN</td>\n",
       "      <td>...</td>\n",
       "      <td>NaN</td>\n",
       "      <td>37.75</td>\n",
       "      <td>0.5</td>\n",
       "      <td>64.83</td>\n",
       "      <td>0.51</td>\n",
       "      <td>41128772</td>\n",
       "      <td>NaN</td>\n",
       "      <td>NaN</td>\n",
       "      <td>NaN</td>\n",
       "      <td>NaN</td>\n",
       "    </tr>\n",
       "  </tbody>\n",
       "</table>\n",
       "<p>5 rows × 67 columns</p>\n",
       "</div>"
      ],
      "text/plain": [
       "  iso_code continent     location        date  total_cases  new_cases  \\\n",
       "0      AFG      Asia  Afghanistan  2020-01-05          0.0        0.0   \n",
       "1      AFG      Asia  Afghanistan  2020-01-06          0.0        0.0   \n",
       "2      AFG      Asia  Afghanistan  2020-01-07          0.0        0.0   \n",
       "3      AFG      Asia  Afghanistan  2020-01-08          0.0        0.0   \n",
       "4      AFG      Asia  Afghanistan  2020-01-09          0.0        0.0   \n",
       "\n",
       "   new_cases_smoothed  total_deaths  new_deaths  new_deaths_smoothed  ...  \\\n",
       "0                 NaN           0.0         0.0                  NaN  ...   \n",
       "1                 NaN           0.0         0.0                  NaN  ...   \n",
       "2                 NaN           0.0         0.0                  NaN  ...   \n",
       "3                 NaN           0.0         0.0                  NaN  ...   \n",
       "4                 NaN           0.0         0.0                  NaN  ...   \n",
       "\n",
       "   male_smokers  handwashing_facilities  hospital_beds_per_thousand  \\\n",
       "0           NaN                   37.75                         0.5   \n",
       "1           NaN                   37.75                         0.5   \n",
       "2           NaN                   37.75                         0.5   \n",
       "3           NaN                   37.75                         0.5   \n",
       "4           NaN                   37.75                         0.5   \n",
       "\n",
       "   life_expectancy  human_development_index  population  \\\n",
       "0            64.83                     0.51    41128772   \n",
       "1            64.83                     0.51    41128772   \n",
       "2            64.83                     0.51    41128772   \n",
       "3            64.83                     0.51    41128772   \n",
       "4            64.83                     0.51    41128772   \n",
       "\n",
       "   excess_mortality_cumulative_absolute  excess_mortality_cumulative  \\\n",
       "0                                   NaN                          NaN   \n",
       "1                                   NaN                          NaN   \n",
       "2                                   NaN                          NaN   \n",
       "3                                   NaN                          NaN   \n",
       "4                                   NaN                          NaN   \n",
       "\n",
       "   excess_mortality  excess_mortality_cumulative_per_million  \n",
       "0               NaN                                      NaN  \n",
       "1               NaN                                      NaN  \n",
       "2               NaN                                      NaN  \n",
       "3               NaN                                      NaN  \n",
       "4               NaN                                      NaN  \n",
       "\n",
       "[5 rows x 67 columns]"
      ]
     },
     "execution_count": 46,
     "metadata": {},
     "output_type": "execute_result"
    }
   ],
   "source": [
    "# Step 3: Data Overview\n",
    "df.head()"
   ]
  },
  {
   "cell_type": "code",
   "execution_count": 47,
   "metadata": {},
   "outputs": [
    {
     "data": {
      "text/plain": [
       "(429435, 67)"
      ]
     },
     "execution_count": 47,
     "metadata": {},
     "output_type": "execute_result"
    }
   ],
   "source": [
    "df.shape"
   ]
  },
  {
   "cell_type": "code",
   "execution_count": 48,
   "metadata": {},
   "outputs": [
    {
     "name": "stdout",
     "output_type": "stream",
     "text": [
      "<class 'pandas.core.frame.DataFrame'>\n",
      "RangeIndex: 429435 entries, 0 to 429434\n",
      "Data columns (total 67 columns):\n",
      " #   Column                                      Non-Null Count   Dtype  \n",
      "---  ------                                      --------------   -----  \n",
      " 0   iso_code                                    429435 non-null  object \n",
      " 1   continent                                   402910 non-null  object \n",
      " 2   location                                    429435 non-null  object \n",
      " 3   date                                        429435 non-null  object \n",
      " 4   total_cases                                 411804 non-null  float64\n",
      " 5   new_cases                                   410159 non-null  float64\n",
      " 6   new_cases_smoothed                          408929 non-null  float64\n",
      " 7   total_deaths                                411804 non-null  float64\n",
      " 8   new_deaths                                  410608 non-null  float64\n",
      " 9   new_deaths_smoothed                         409378 non-null  float64\n",
      " 10  total_cases_per_million                     411804 non-null  float64\n",
      " 11  new_cases_per_million                       410159 non-null  float64\n",
      " 12  new_cases_smoothed_per_million              408929 non-null  float64\n",
      " 13  total_deaths_per_million                    411804 non-null  float64\n",
      " 14  new_deaths_per_million                      410608 non-null  float64\n",
      " 15  new_deaths_smoothed_per_million             409378 non-null  float64\n",
      " 16  reproduction_rate                           184817 non-null  float64\n",
      " 17  icu_patients                                39116 non-null   float64\n",
      " 18  icu_patients_per_million                    39116 non-null   float64\n",
      " 19  hosp_patients                               40656 non-null   float64\n",
      " 20  hosp_patients_per_million                   40656 non-null   float64\n",
      " 21  weekly_icu_admissions                       10993 non-null   float64\n",
      " 22  weekly_icu_admissions_per_million           10993 non-null   float64\n",
      " 23  weekly_hosp_admissions                      24497 non-null   float64\n",
      " 24  weekly_hosp_admissions_per_million          24497 non-null   float64\n",
      " 25  total_tests                                 79387 non-null   float64\n",
      " 26  new_tests                                   75403 non-null   float64\n",
      " 27  total_tests_per_thousand                    79387 non-null   float64\n",
      " 28  new_tests_per_thousand                      75403 non-null   float64\n",
      " 29  new_tests_smoothed                          103965 non-null  float64\n",
      " 30  new_tests_smoothed_per_thousand             103965 non-null  float64\n",
      " 31  positive_rate                               95927 non-null   float64\n",
      " 32  tests_per_case                              94348 non-null   float64\n",
      " 33  tests_units                                 106788 non-null  object \n",
      " 34  total_vaccinations                          85417 non-null   float64\n",
      " 35  people_vaccinated                           81132 non-null   float64\n",
      " 36  people_fully_vaccinated                     78061 non-null   float64\n",
      " 37  total_boosters                              53600 non-null   float64\n",
      " 38  new_vaccinations                            70971 non-null   float64\n",
      " 39  new_vaccinations_smoothed                   195029 non-null  float64\n",
      " 40  total_vaccinations_per_hundred              85417 non-null   float64\n",
      " 41  people_vaccinated_per_hundred               81132 non-null   float64\n",
      " 42  people_fully_vaccinated_per_hundred         78061 non-null   float64\n",
      " 43  total_boosters_per_hundred                  53600 non-null   float64\n",
      " 44  new_vaccinations_smoothed_per_million       195029 non-null  float64\n",
      " 45  new_people_vaccinated_smoothed              192177 non-null  float64\n",
      " 46  new_people_vaccinated_smoothed_per_hundred  192177 non-null  float64\n",
      " 47  stringency_index                            196190 non-null  float64\n",
      " 48  population_density                          360492 non-null  float64\n",
      " 49  median_age                                  334663 non-null  float64\n",
      " 50  aged_65_older                               323270 non-null  float64\n",
      " 51  aged_70_older                               331315 non-null  float64\n",
      " 52  gdp_per_capita                              328292 non-null  float64\n",
      " 53  extreme_poverty                             211996 non-null  float64\n",
      " 54  cardiovasc_death_rate                       328865 non-null  float64\n",
      " 55  diabetes_prevalence                         345911 non-null  float64\n",
      " 56  female_smokers                              247165 non-null  float64\n",
      " 57  male_smokers                                243817 non-null  float64\n",
      " 58  handwashing_facilities                      161741 non-null  float64\n",
      " 59  hospital_beds_per_thousand                  290689 non-null  float64\n",
      " 60  life_expectancy                             390299 non-null  float64\n",
      " 61  human_development_index                     319127 non-null  float64\n",
      " 62  population                                  429435 non-null  int64  \n",
      " 63  excess_mortality_cumulative_absolute        13411 non-null   float64\n",
      " 64  excess_mortality_cumulative                 13411 non-null   float64\n",
      " 65  excess_mortality                            13411 non-null   float64\n",
      " 66  excess_mortality_cumulative_per_million     13411 non-null   float64\n",
      "dtypes: float64(61), int64(1), object(5)\n",
      "memory usage: 219.5+ MB\n"
     ]
    }
   ],
   "source": [
    "df.info()"
   ]
  },
  {
   "cell_type": "code",
   "execution_count": 49,
   "metadata": {},
   "outputs": [
    {
     "data": {
      "text/plain": [
       "Index(['iso_code', 'continent', 'location', 'date', 'total_cases', 'new_cases',\n",
       "       'new_cases_smoothed', 'total_deaths', 'new_deaths',\n",
       "       'new_deaths_smoothed', 'total_cases_per_million',\n",
       "       'new_cases_per_million', 'new_cases_smoothed_per_million',\n",
       "       'total_deaths_per_million', 'new_deaths_per_million',\n",
       "       'new_deaths_smoothed_per_million', 'reproduction_rate', 'icu_patients',\n",
       "       'icu_patients_per_million', 'hosp_patients',\n",
       "       'hosp_patients_per_million', 'weekly_icu_admissions',\n",
       "       'weekly_icu_admissions_per_million', 'weekly_hosp_admissions',\n",
       "       'weekly_hosp_admissions_per_million', 'total_tests', 'new_tests',\n",
       "       'total_tests_per_thousand', 'new_tests_per_thousand',\n",
       "       'new_tests_smoothed', 'new_tests_smoothed_per_thousand',\n",
       "       'positive_rate', 'tests_per_case', 'tests_units', 'total_vaccinations',\n",
       "       'people_vaccinated', 'people_fully_vaccinated', 'total_boosters',\n",
       "       'new_vaccinations', 'new_vaccinations_smoothed',\n",
       "       'total_vaccinations_per_hundred', 'people_vaccinated_per_hundred',\n",
       "       'people_fully_vaccinated_per_hundred', 'total_boosters_per_hundred',\n",
       "       'new_vaccinations_smoothed_per_million',\n",
       "       'new_people_vaccinated_smoothed',\n",
       "       'new_people_vaccinated_smoothed_per_hundred', 'stringency_index',\n",
       "       'population_density', 'median_age', 'aged_65_older', 'aged_70_older',\n",
       "       'gdp_per_capita', 'extreme_poverty', 'cardiovasc_death_rate',\n",
       "       'diabetes_prevalence', 'female_smokers', 'male_smokers',\n",
       "       'handwashing_facilities', 'hospital_beds_per_thousand',\n",
       "       'life_expectancy', 'human_development_index', 'population',\n",
       "       'excess_mortality_cumulative_absolute', 'excess_mortality_cumulative',\n",
       "       'excess_mortality', 'excess_mortality_cumulative_per_million'],\n",
       "      dtype='object')"
      ]
     },
     "execution_count": 49,
     "metadata": {},
     "output_type": "execute_result"
    }
   ],
   "source": [
    "df.columns"
   ]
  },
  {
   "cell_type": "code",
   "execution_count": 50,
   "metadata": {},
   "outputs": [
    {
     "data": {
      "application/vnd.microsoft.datawrangler.viewer.v0+json": {
       "columns": [
        {
         "name": "index",
         "rawType": "object",
         "type": "string"
        },
        {
         "name": "0",
         "rawType": "int64",
         "type": "integer"
        }
       ],
       "ref": "fdf0011c-b0df-4da3-b90d-d49ff6bb9ed3",
       "rows": [
        [
         "iso_code",
         "0"
        ],
        [
         "continent",
         "26525"
        ],
        [
         "location",
         "0"
        ],
        [
         "date",
         "0"
        ],
        [
         "total_cases",
         "17631"
        ],
        [
         "new_cases",
         "19276"
        ],
        [
         "new_cases_smoothed",
         "20506"
        ],
        [
         "total_deaths",
         "17631"
        ],
        [
         "new_deaths",
         "18827"
        ],
        [
         "new_deaths_smoothed",
         "20057"
        ],
        [
         "total_cases_per_million",
         "17631"
        ],
        [
         "new_cases_per_million",
         "19276"
        ],
        [
         "new_cases_smoothed_per_million",
         "20506"
        ],
        [
         "total_deaths_per_million",
         "17631"
        ],
        [
         "new_deaths_per_million",
         "18827"
        ],
        [
         "new_deaths_smoothed_per_million",
         "20057"
        ],
        [
         "reproduction_rate",
         "244618"
        ],
        [
         "icu_patients",
         "390319"
        ],
        [
         "icu_patients_per_million",
         "390319"
        ],
        [
         "hosp_patients",
         "388779"
        ],
        [
         "hosp_patients_per_million",
         "388779"
        ],
        [
         "weekly_icu_admissions",
         "418442"
        ],
        [
         "weekly_icu_admissions_per_million",
         "418442"
        ],
        [
         "weekly_hosp_admissions",
         "404938"
        ],
        [
         "weekly_hosp_admissions_per_million",
         "404938"
        ],
        [
         "total_tests",
         "350048"
        ],
        [
         "new_tests",
         "354032"
        ],
        [
         "total_tests_per_thousand",
         "350048"
        ],
        [
         "new_tests_per_thousand",
         "354032"
        ],
        [
         "new_tests_smoothed",
         "325470"
        ],
        [
         "new_tests_smoothed_per_thousand",
         "325470"
        ],
        [
         "positive_rate",
         "333508"
        ],
        [
         "tests_per_case",
         "335087"
        ],
        [
         "tests_units",
         "322647"
        ],
        [
         "total_vaccinations",
         "344018"
        ],
        [
         "people_vaccinated",
         "348303"
        ],
        [
         "people_fully_vaccinated",
         "351374"
        ],
        [
         "total_boosters",
         "375835"
        ],
        [
         "new_vaccinations",
         "358464"
        ],
        [
         "new_vaccinations_smoothed",
         "234406"
        ],
        [
         "total_vaccinations_per_hundred",
         "344018"
        ],
        [
         "people_vaccinated_per_hundred",
         "348303"
        ],
        [
         "people_fully_vaccinated_per_hundred",
         "351374"
        ],
        [
         "total_boosters_per_hundred",
         "375835"
        ],
        [
         "new_vaccinations_smoothed_per_million",
         "234406"
        ],
        [
         "new_people_vaccinated_smoothed",
         "237258"
        ],
        [
         "new_people_vaccinated_smoothed_per_hundred",
         "237258"
        ],
        [
         "stringency_index",
         "233245"
        ],
        [
         "population_density",
         "68943"
        ],
        [
         "median_age",
         "94772"
        ]
       ],
       "shape": {
        "columns": 1,
        "rows": 67
       }
      },
      "text/plain": [
       "iso_code                                        0\n",
       "continent                                   26525\n",
       "location                                        0\n",
       "date                                            0\n",
       "total_cases                                 17631\n",
       "                                            ...  \n",
       "population                                      0\n",
       "excess_mortality_cumulative_absolute       416024\n",
       "excess_mortality_cumulative                416024\n",
       "excess_mortality                           416024\n",
       "excess_mortality_cumulative_per_million    416024\n",
       "Length: 67, dtype: int64"
      ]
     },
     "execution_count": 50,
     "metadata": {},
     "output_type": "execute_result"
    }
   ],
   "source": [
    "df.isnull().sum()\n"
   ]
  },
  {
   "cell_type": "code",
   "execution_count": 51,
   "metadata": {},
   "outputs": [
    {
     "data": {
      "application/vnd.microsoft.datawrangler.viewer.v0+json": {
       "columns": [
        {
         "name": "index",
         "rawType": "object",
         "type": "string"
        },
        {
         "name": "total_cases",
         "rawType": "float64",
         "type": "float"
        },
        {
         "name": "new_cases",
         "rawType": "float64",
         "type": "float"
        },
        {
         "name": "new_cases_smoothed",
         "rawType": "float64",
         "type": "float"
        },
        {
         "name": "total_deaths",
         "rawType": "float64",
         "type": "float"
        },
        {
         "name": "new_deaths",
         "rawType": "float64",
         "type": "float"
        },
        {
         "name": "new_deaths_smoothed",
         "rawType": "float64",
         "type": "float"
        },
        {
         "name": "total_cases_per_million",
         "rawType": "float64",
         "type": "float"
        },
        {
         "name": "new_cases_per_million",
         "rawType": "float64",
         "type": "float"
        },
        {
         "name": "new_cases_smoothed_per_million",
         "rawType": "float64",
         "type": "float"
        },
        {
         "name": "total_deaths_per_million",
         "rawType": "float64",
         "type": "float"
        },
        {
         "name": "new_deaths_per_million",
         "rawType": "float64",
         "type": "float"
        },
        {
         "name": "new_deaths_smoothed_per_million",
         "rawType": "float64",
         "type": "float"
        },
        {
         "name": "reproduction_rate",
         "rawType": "float64",
         "type": "float"
        },
        {
         "name": "icu_patients",
         "rawType": "float64",
         "type": "float"
        },
        {
         "name": "icu_patients_per_million",
         "rawType": "float64",
         "type": "float"
        },
        {
         "name": "hosp_patients",
         "rawType": "float64",
         "type": "float"
        },
        {
         "name": "hosp_patients_per_million",
         "rawType": "float64",
         "type": "float"
        },
        {
         "name": "weekly_icu_admissions",
         "rawType": "float64",
         "type": "float"
        },
        {
         "name": "weekly_icu_admissions_per_million",
         "rawType": "float64",
         "type": "float"
        },
        {
         "name": "weekly_hosp_admissions",
         "rawType": "float64",
         "type": "float"
        },
        {
         "name": "weekly_hosp_admissions_per_million",
         "rawType": "float64",
         "type": "float"
        },
        {
         "name": "total_tests",
         "rawType": "float64",
         "type": "float"
        },
        {
         "name": "new_tests",
         "rawType": "float64",
         "type": "float"
        },
        {
         "name": "total_tests_per_thousand",
         "rawType": "float64",
         "type": "float"
        },
        {
         "name": "new_tests_per_thousand",
         "rawType": "float64",
         "type": "float"
        },
        {
         "name": "new_tests_smoothed",
         "rawType": "float64",
         "type": "float"
        },
        {
         "name": "new_tests_smoothed_per_thousand",
         "rawType": "float64",
         "type": "float"
        },
        {
         "name": "positive_rate",
         "rawType": "float64",
         "type": "float"
        },
        {
         "name": "tests_per_case",
         "rawType": "float64",
         "type": "float"
        },
        {
         "name": "total_vaccinations",
         "rawType": "float64",
         "type": "float"
        },
        {
         "name": "people_vaccinated",
         "rawType": "float64",
         "type": "float"
        },
        {
         "name": "people_fully_vaccinated",
         "rawType": "float64",
         "type": "float"
        },
        {
         "name": "total_boosters",
         "rawType": "float64",
         "type": "float"
        },
        {
         "name": "new_vaccinations",
         "rawType": "float64",
         "type": "float"
        },
        {
         "name": "new_vaccinations_smoothed",
         "rawType": "float64",
         "type": "float"
        },
        {
         "name": "total_vaccinations_per_hundred",
         "rawType": "float64",
         "type": "float"
        },
        {
         "name": "people_vaccinated_per_hundred",
         "rawType": "float64",
         "type": "float"
        },
        {
         "name": "people_fully_vaccinated_per_hundred",
         "rawType": "float64",
         "type": "float"
        },
        {
         "name": "total_boosters_per_hundred",
         "rawType": "float64",
         "type": "float"
        },
        {
         "name": "new_vaccinations_smoothed_per_million",
         "rawType": "float64",
         "type": "float"
        },
        {
         "name": "new_people_vaccinated_smoothed",
         "rawType": "float64",
         "type": "float"
        },
        {
         "name": "new_people_vaccinated_smoothed_per_hundred",
         "rawType": "float64",
         "type": "float"
        },
        {
         "name": "stringency_index",
         "rawType": "float64",
         "type": "float"
        },
        {
         "name": "population_density",
         "rawType": "float64",
         "type": "float"
        },
        {
         "name": "median_age",
         "rawType": "float64",
         "type": "float"
        },
        {
         "name": "aged_65_older",
         "rawType": "float64",
         "type": "float"
        },
        {
         "name": "aged_70_older",
         "rawType": "float64",
         "type": "float"
        },
        {
         "name": "gdp_per_capita",
         "rawType": "float64",
         "type": "float"
        },
        {
         "name": "extreme_poverty",
         "rawType": "float64",
         "type": "float"
        },
        {
         "name": "cardiovasc_death_rate",
         "rawType": "float64",
         "type": "float"
        },
        {
         "name": "diabetes_prevalence",
         "rawType": "float64",
         "type": "float"
        },
        {
         "name": "female_smokers",
         "rawType": "float64",
         "type": "float"
        },
        {
         "name": "male_smokers",
         "rawType": "float64",
         "type": "float"
        },
        {
         "name": "handwashing_facilities",
         "rawType": "float64",
         "type": "float"
        },
        {
         "name": "hospital_beds_per_thousand",
         "rawType": "float64",
         "type": "float"
        },
        {
         "name": "life_expectancy",
         "rawType": "float64",
         "type": "float"
        },
        {
         "name": "human_development_index",
         "rawType": "float64",
         "type": "float"
        },
        {
         "name": "population",
         "rawType": "float64",
         "type": "float"
        },
        {
         "name": "excess_mortality_cumulative_absolute",
         "rawType": "float64",
         "type": "float"
        },
        {
         "name": "excess_mortality_cumulative",
         "rawType": "float64",
         "type": "float"
        },
        {
         "name": "excess_mortality",
         "rawType": "float64",
         "type": "float"
        },
        {
         "name": "excess_mortality_cumulative_per_million",
         "rawType": "float64",
         "type": "float"
        }
       ],
       "ref": "da8a70e7-3663-4a1e-8db6-f859744f12d2",
       "rows": [
        [
         "count",
         "411804.0",
         "410159.0",
         "408929.0",
         "411804.0",
         "410608.0",
         "409378.0",
         "411804.0",
         "410159.0",
         "408929.0",
         "411804.0",
         "410608.0",
         "409378.0",
         "184817.0",
         "39116.0",
         "39116.0",
         "40656.0",
         "40656.0",
         "10993.0",
         "10993.0",
         "24497.0",
         "24497.0",
         "79387.0",
         "75403.0",
         "79387.0",
         "75403.0",
         "103965.0",
         "103965.0",
         "95927.0",
         "94348.0",
         "85417.0",
         "81132.0",
         "78061.0",
         "53600.0",
         "70971.0",
         "195029.0",
         "85417.0",
         "81132.0",
         "78061.0",
         "53600.0",
         "195029.0",
         "192177.0",
         "192177.0",
         "196190.0",
         "360492.0",
         "334663.0",
         "323270.0",
         "331315.0",
         "328292.0",
         "211996.0",
         "328865.0",
         "345911.0",
         "247165.0",
         "243817.0",
         "161741.0",
         "290689.0",
         "390299.0",
         "319127.0",
         "429435.0",
         "13411.0",
         "13411.0",
         "13411.0",
         "13411.0"
        ],
        [
         "mean",
         "7365292.354484173",
         "8017.359933586731",
         "8041.02576410575",
         "81259.57427805461",
         "71.8521387795659",
         "72.06082842751687",
         "112096.19941984536",
         "122.35707291562537",
         "122.71385223351731",
         "835.5143373303803",
         "0.7623211189260802",
         "0.7645298965748041",
         "0.9114953710968148",
         "660.9714183454341",
         "15.656337048777994",
         "3911.7415633608816",
         "125.98798430735928",
         "317.8941144364596",
         "9.672003092877285",
         "4291.723313058742",
         "82.61909335837042",
         "21104573.93801252",
         "67285.41211888121",
         "924.2547520374873",
         "3.272460644801932",
         "142178.3636993219",
         "2.82636406482951",
         "0.09807895587269493",
         "2403.632807266715",
         "561697983.4254072",
         "248706410.74005324",
         "228663910.07339132",
         "150581058.90156716",
         "739864.0267433177",
         "283875.815135185",
         "124.27955758221432",
         "53.50140881526402",
         "48.68018216522975",
         "36.30148861940299",
         "1851.477595639623",
         "106070.69886614944",
         "0.07467839543753936",
         "42.87756032417554",
         "394.07293207616266",
         "30.456295736307865",
         "8.683893123395302",
         "5.486494061542643",
         "18904.182971561906",
         "13.924729240174345",
         "264.63953369923837",
         "8.556055112442218",
         "10.772437926081768",
         "33.09775758048045",
         "50.64939038339073",
         "3.1068948257416",
         "73.702098365612",
         "0.722177816355244",
         "152033640.39627418",
         "56047.653550816496",
         "9.76643128774886",
         "10.925353068376705",
         "1772.6664044441125"
        ],
        [
         "std",
         "44775816.76672389",
         "229664.86673015144",
         "86616.11129819702",
         "441190.1382369321",
         "1368.3229897030417",
         "513.6365647777923",
         "162240.41240532006",
         "1508.778585018183",
         "559.7016625156855",
         "1134.9326412974776",
         "6.98253215024181",
         "2.5465425967079467",
         "0.39992499556704",
         "2139.6155316531695",
         "22.785484573678872",
         "9845.75048474151",
         "151.15580968843318",
         "514.4129100144745",
         "13.573936412008228",
         "10919.62368106895",
         "88.39674021718213",
         "84098694.31109414",
         "247734.00456983803",
         "2195.428490042355",
         "9.033825668420757",
         "1138214.6555840678",
         "7.308224750926175",
         "0.11609736423218206",
         "33443.660676739135",
         "1842160151.901695",
         "800646051.1265773",
         "740376339.0430231",
         "436069655.2695458",
         "3183064.3833058276",
         "1922351.90382288",
         "85.09804177253197",
         "29.37965525356043",
         "29.04228237602303",
         "30.218207758288326",
         "3117.8287311518516",
         "786688.3872564356",
         "0.17636448952858355",
         "24.87049215909331",
         "1785.4512808551688",
         "9.093554097918641",
         "6.093036775010484",
         "4.1362595773211295",
         "19829.577836172153",
         "20.073912014572567",
         "120.75669846049992",
         "4.934656332728368",
         "10.761090599624552",
         "13.853951593716165",
         "31.90523629307351",
         "2.549167798279519",
         "7.387914446278249",
         "0.1492369934253778",
         "697540771.6682892",
         "156869.07563292084",
         "12.04065843282688",
         "24.560705929687686",
         "1991.8927704585433"
        ],
        [
         "min",
         "0.0",
         "0.0",
         "0.0",
         "0.0",
         "0.0",
         "0.0",
         "0.0",
         "0.0",
         "0.0",
         "0.0",
         "0.0",
         "0.0",
         "-0.07",
         "0.0",
         "0.0",
         "0.0",
         "0.0",
         "0.0",
         "0.0",
         "0.0",
         "0.0",
         "0.0",
         "1.0",
         "0.0",
         "0.0",
         "0.0",
         "0.0",
         "0.0",
         "1.0",
         "0.0",
         "0.0",
         "1.0",
         "1.0",
         "0.0",
         "0.0",
         "0.0",
         "0.0",
         "0.0",
         "0.0",
         "0.0",
         "0.0",
         "0.0",
         "0.0",
         "0.14",
         "15.1",
         "1.14",
         "0.53",
         "661.24",
         "0.1",
         "79.37",
         "0.99",
         "0.1",
         "7.7",
         "1.19",
         "0.1",
         "53.28",
         "0.39",
         "47.0",
         "-37726.1",
         "-44.23",
         "-95.92",
         "-2936.45"
        ],
        [
         "25%",
         "6280.75",
         "0.0",
         "0.0",
         "43.0",
         "0.0",
         "0.0",
         "1916.1",
         "0.0",
         "0.0",
         "24.57",
         "0.0",
         "0.0",
         "0.72",
         "21.0",
         "2.33",
         "186.0",
         "31.0",
         "17.0",
         "1.55",
         "223.0",
         "23.73",
         "364654.0",
         "2244.0",
         "43.585",
         "0.29",
         "1486.0",
         "0.2",
         "0.02",
         "7.1",
         "1970788.0",
         "1050009.25",
         "964400.0",
         "602282.0",
         "2010.0",
         "279.0",
         "44.77",
         "27.88",
         "21.22",
         "5.92",
         "106.0",
         "43.0",
         "0.0",
         "22.22",
         "37.73",
         "22.2",
         "3.53",
         "2.06",
         "4227.63",
         "0.6",
         "175.7",
         "5.35",
         "1.9",
         "22.6",
         "20.86",
         "1.3",
         "69.5",
         "0.6",
         "523798.0",
         "176.5",
         "2.06",
         "-1.5",
         "116.875"
        ],
        [
         "50%",
         "63653.0",
         "0.0",
         "12.0",
         "799.0",
         "0.0",
         "0.0",
         "29145.48",
         "0.0",
         "2.79",
         "295.09",
         "0.0",
         "0.0",
         "0.95",
         "90.0",
         "6.43",
         "776.0",
         "74.235",
         "92.0",
         "4.64",
         "864.0",
         "56.28",
         "2067330.0",
         "8783.0",
         "234.14",
         "0.97",
         "6570.0",
         "0.85",
         "0.06",
         "17.5",
         "14394348.0",
         "6901087.5",
         "6191345.0",
         "5765440.0",
         "20531.0",
         "3871.0",
         "130.55",
         "64.3",
         "57.92",
         "35.905",
         "605.0",
         "771.0",
         "0.01",
         "42.85",
         "88.12",
         "29.7",
         "6.29",
         "3.87",
         "12294.88",
         "2.5",
         "245.46",
         "7.2",
         "6.3",
         "33.1",
         "49.54",
         "2.5",
         "75.05",
         "0.74",
         "6336393.0",
         "6815.2",
         "8.13",
         "5.66",
         "1270.8"
        ],
        [
         "75%",
         "758272.0",
         "0.0",
         "313.29",
         "9574.0",
         "0.0",
         "3.14",
         "156770.19",
         "0.0",
         "56.25",
         "1283.82",
         "0.0",
         "0.36",
         "1.14",
         "413.0",
         "18.78",
         "3051.0",
         "159.76",
         "353.0",
         "12.65",
         "3893.0",
         "110.0",
         "10248451.5",
         "37229.0",
         "894.375",
         "2.91",
         "32205.0",
         "2.58",
         "0.14",
         "54.6",
         "116197175.0",
         "50932952.0",
         "47731850.0",
         "40190716.25",
         "173611.5",
         "31803.0",
         "194.99",
         "77.78",
         "73.61",
         "57.62",
         "2402.0",
         "9307.0",
         "0.07",
         "62.04",
         "222.87",
         "38.7",
         "13.93",
         "8.64",
         "27216.44",
         "21.4",
         "333.44",
         "10.79",
         "19.3",
         "41.5",
         "82.5",
         "4.21",
         "79.46",
         "0.83",
         "32969520.0",
         "39128.045",
         "15.16",
         "15.575",
         "2883.0249999999996"
        ],
        [
         "max",
         "775866783.0",
         "44236227.0",
         "6319461.0",
         "7057132.0",
         "103719.0",
         "14817.0",
         "763598.6",
         "241758.23",
         "34536.89",
         "6601.11",
         "893.66",
         "127.66",
         "5.87",
         "28891.0",
         "180.68",
         "154497.0",
         "1526.85",
         "4838.0",
         "224.98",
         "153977.0",
         "717.08",
         "9214000000.0",
         "35855632.0",
         "32925.83",
         "531.06",
         "14769984.0",
         "147.6",
         "1.0",
         "1023631.9",
         "13578774356.0",
         "5631263739.0",
         "5177942957.0",
         "2817381093.0",
         "49673198.0",
         "43691814.0",
         "410.23",
         "129.07",
         "126.89",
         "150.47",
         "117113.0",
         "21071266.0",
         "11.71",
         "100.0",
         "20546.77",
         "48.2",
         "27.05",
         "18.49",
         "116935.6",
         "77.6",
         "724.42",
         "30.53",
         "44.0",
         "78.1",
         "100.0",
         "13.8",
         "86.75",
         "0.96",
         "7975105024.0",
         "1349776.4",
         "78.08",
         "378.22",
         "10293.52"
        ]
       ],
       "shape": {
        "columns": 62,
        "rows": 8
       }
      },
      "text/html": [
       "<div>\n",
       "<style scoped>\n",
       "    .dataframe tbody tr th:only-of-type {\n",
       "        vertical-align: middle;\n",
       "    }\n",
       "\n",
       "    .dataframe tbody tr th {\n",
       "        vertical-align: top;\n",
       "    }\n",
       "\n",
       "    .dataframe thead th {\n",
       "        text-align: right;\n",
       "    }\n",
       "</style>\n",
       "<table border=\"1\" class=\"dataframe\">\n",
       "  <thead>\n",
       "    <tr style=\"text-align: right;\">\n",
       "      <th></th>\n",
       "      <th>total_cases</th>\n",
       "      <th>new_cases</th>\n",
       "      <th>new_cases_smoothed</th>\n",
       "      <th>total_deaths</th>\n",
       "      <th>new_deaths</th>\n",
       "      <th>new_deaths_smoothed</th>\n",
       "      <th>total_cases_per_million</th>\n",
       "      <th>new_cases_per_million</th>\n",
       "      <th>new_cases_smoothed_per_million</th>\n",
       "      <th>total_deaths_per_million</th>\n",
       "      <th>...</th>\n",
       "      <th>male_smokers</th>\n",
       "      <th>handwashing_facilities</th>\n",
       "      <th>hospital_beds_per_thousand</th>\n",
       "      <th>life_expectancy</th>\n",
       "      <th>human_development_index</th>\n",
       "      <th>population</th>\n",
       "      <th>excess_mortality_cumulative_absolute</th>\n",
       "      <th>excess_mortality_cumulative</th>\n",
       "      <th>excess_mortality</th>\n",
       "      <th>excess_mortality_cumulative_per_million</th>\n",
       "    </tr>\n",
       "  </thead>\n",
       "  <tbody>\n",
       "    <tr>\n",
       "      <th>count</th>\n",
       "      <td>4.118040e+05</td>\n",
       "      <td>4.101590e+05</td>\n",
       "      <td>4.089290e+05</td>\n",
       "      <td>4.118040e+05</td>\n",
       "      <td>410608.000000</td>\n",
       "      <td>409378.000000</td>\n",
       "      <td>411804.000000</td>\n",
       "      <td>410159.000000</td>\n",
       "      <td>408929.000000</td>\n",
       "      <td>411804.000000</td>\n",
       "      <td>...</td>\n",
       "      <td>243817.000000</td>\n",
       "      <td>161741.000000</td>\n",
       "      <td>290689.000000</td>\n",
       "      <td>390299.000000</td>\n",
       "      <td>319127.000000</td>\n",
       "      <td>4.294350e+05</td>\n",
       "      <td>1.341100e+04</td>\n",
       "      <td>13411.000000</td>\n",
       "      <td>13411.000000</td>\n",
       "      <td>13411.000000</td>\n",
       "    </tr>\n",
       "    <tr>\n",
       "      <th>mean</th>\n",
       "      <td>7.365292e+06</td>\n",
       "      <td>8.017360e+03</td>\n",
       "      <td>8.041026e+03</td>\n",
       "      <td>8.125957e+04</td>\n",
       "      <td>71.852139</td>\n",
       "      <td>72.060828</td>\n",
       "      <td>112096.199420</td>\n",
       "      <td>122.357073</td>\n",
       "      <td>122.713852</td>\n",
       "      <td>835.514337</td>\n",
       "      <td>...</td>\n",
       "      <td>33.097758</td>\n",
       "      <td>50.649390</td>\n",
       "      <td>3.106895</td>\n",
       "      <td>73.702098</td>\n",
       "      <td>0.722178</td>\n",
       "      <td>1.520336e+08</td>\n",
       "      <td>5.604765e+04</td>\n",
       "      <td>9.766431</td>\n",
       "      <td>10.925353</td>\n",
       "      <td>1772.666404</td>\n",
       "    </tr>\n",
       "    <tr>\n",
       "      <th>std</th>\n",
       "      <td>4.477582e+07</td>\n",
       "      <td>2.296649e+05</td>\n",
       "      <td>8.661611e+04</td>\n",
       "      <td>4.411901e+05</td>\n",
       "      <td>1368.322990</td>\n",
       "      <td>513.636565</td>\n",
       "      <td>162240.412405</td>\n",
       "      <td>1508.778585</td>\n",
       "      <td>559.701663</td>\n",
       "      <td>1134.932641</td>\n",
       "      <td>...</td>\n",
       "      <td>13.853952</td>\n",
       "      <td>31.905236</td>\n",
       "      <td>2.549168</td>\n",
       "      <td>7.387914</td>\n",
       "      <td>0.149237</td>\n",
       "      <td>6.975408e+08</td>\n",
       "      <td>1.568691e+05</td>\n",
       "      <td>12.040658</td>\n",
       "      <td>24.560706</td>\n",
       "      <td>1991.892770</td>\n",
       "    </tr>\n",
       "    <tr>\n",
       "      <th>min</th>\n",
       "      <td>0.000000e+00</td>\n",
       "      <td>0.000000e+00</td>\n",
       "      <td>0.000000e+00</td>\n",
       "      <td>0.000000e+00</td>\n",
       "      <td>0.000000</td>\n",
       "      <td>0.000000</td>\n",
       "      <td>0.000000</td>\n",
       "      <td>0.000000</td>\n",
       "      <td>0.000000</td>\n",
       "      <td>0.000000</td>\n",
       "      <td>...</td>\n",
       "      <td>7.700000</td>\n",
       "      <td>1.190000</td>\n",
       "      <td>0.100000</td>\n",
       "      <td>53.280000</td>\n",
       "      <td>0.390000</td>\n",
       "      <td>4.700000e+01</td>\n",
       "      <td>-3.772610e+04</td>\n",
       "      <td>-44.230000</td>\n",
       "      <td>-95.920000</td>\n",
       "      <td>-2936.450000</td>\n",
       "    </tr>\n",
       "    <tr>\n",
       "      <th>25%</th>\n",
       "      <td>6.280750e+03</td>\n",
       "      <td>0.000000e+00</td>\n",
       "      <td>0.000000e+00</td>\n",
       "      <td>4.300000e+01</td>\n",
       "      <td>0.000000</td>\n",
       "      <td>0.000000</td>\n",
       "      <td>1916.100000</td>\n",
       "      <td>0.000000</td>\n",
       "      <td>0.000000</td>\n",
       "      <td>24.570000</td>\n",
       "      <td>...</td>\n",
       "      <td>22.600000</td>\n",
       "      <td>20.860000</td>\n",
       "      <td>1.300000</td>\n",
       "      <td>69.500000</td>\n",
       "      <td>0.600000</td>\n",
       "      <td>5.237980e+05</td>\n",
       "      <td>1.765000e+02</td>\n",
       "      <td>2.060000</td>\n",
       "      <td>-1.500000</td>\n",
       "      <td>116.875000</td>\n",
       "    </tr>\n",
       "    <tr>\n",
       "      <th>50%</th>\n",
       "      <td>6.365300e+04</td>\n",
       "      <td>0.000000e+00</td>\n",
       "      <td>1.200000e+01</td>\n",
       "      <td>7.990000e+02</td>\n",
       "      <td>0.000000</td>\n",
       "      <td>0.000000</td>\n",
       "      <td>29145.480000</td>\n",
       "      <td>0.000000</td>\n",
       "      <td>2.790000</td>\n",
       "      <td>295.090000</td>\n",
       "      <td>...</td>\n",
       "      <td>33.100000</td>\n",
       "      <td>49.540000</td>\n",
       "      <td>2.500000</td>\n",
       "      <td>75.050000</td>\n",
       "      <td>0.740000</td>\n",
       "      <td>6.336393e+06</td>\n",
       "      <td>6.815200e+03</td>\n",
       "      <td>8.130000</td>\n",
       "      <td>5.660000</td>\n",
       "      <td>1270.800000</td>\n",
       "    </tr>\n",
       "    <tr>\n",
       "      <th>75%</th>\n",
       "      <td>7.582720e+05</td>\n",
       "      <td>0.000000e+00</td>\n",
       "      <td>3.132900e+02</td>\n",
       "      <td>9.574000e+03</td>\n",
       "      <td>0.000000</td>\n",
       "      <td>3.140000</td>\n",
       "      <td>156770.190000</td>\n",
       "      <td>0.000000</td>\n",
       "      <td>56.250000</td>\n",
       "      <td>1283.820000</td>\n",
       "      <td>...</td>\n",
       "      <td>41.500000</td>\n",
       "      <td>82.500000</td>\n",
       "      <td>4.210000</td>\n",
       "      <td>79.460000</td>\n",
       "      <td>0.830000</td>\n",
       "      <td>3.296952e+07</td>\n",
       "      <td>3.912804e+04</td>\n",
       "      <td>15.160000</td>\n",
       "      <td>15.575000</td>\n",
       "      <td>2883.025000</td>\n",
       "    </tr>\n",
       "    <tr>\n",
       "      <th>max</th>\n",
       "      <td>7.758668e+08</td>\n",
       "      <td>4.423623e+07</td>\n",
       "      <td>6.319461e+06</td>\n",
       "      <td>7.057132e+06</td>\n",
       "      <td>103719.000000</td>\n",
       "      <td>14817.000000</td>\n",
       "      <td>763598.600000</td>\n",
       "      <td>241758.230000</td>\n",
       "      <td>34536.890000</td>\n",
       "      <td>6601.110000</td>\n",
       "      <td>...</td>\n",
       "      <td>78.100000</td>\n",
       "      <td>100.000000</td>\n",
       "      <td>13.800000</td>\n",
       "      <td>86.750000</td>\n",
       "      <td>0.960000</td>\n",
       "      <td>7.975105e+09</td>\n",
       "      <td>1.349776e+06</td>\n",
       "      <td>78.080000</td>\n",
       "      <td>378.220000</td>\n",
       "      <td>10293.520000</td>\n",
       "    </tr>\n",
       "  </tbody>\n",
       "</table>\n",
       "<p>8 rows × 62 columns</p>\n",
       "</div>"
      ],
      "text/plain": [
       "        total_cases     new_cases  new_cases_smoothed  total_deaths  \\\n",
       "count  4.118040e+05  4.101590e+05        4.089290e+05  4.118040e+05   \n",
       "mean   7.365292e+06  8.017360e+03        8.041026e+03  8.125957e+04   \n",
       "std    4.477582e+07  2.296649e+05        8.661611e+04  4.411901e+05   \n",
       "min    0.000000e+00  0.000000e+00        0.000000e+00  0.000000e+00   \n",
       "25%    6.280750e+03  0.000000e+00        0.000000e+00  4.300000e+01   \n",
       "50%    6.365300e+04  0.000000e+00        1.200000e+01  7.990000e+02   \n",
       "75%    7.582720e+05  0.000000e+00        3.132900e+02  9.574000e+03   \n",
       "max    7.758668e+08  4.423623e+07        6.319461e+06  7.057132e+06   \n",
       "\n",
       "          new_deaths  new_deaths_smoothed  total_cases_per_million  \\\n",
       "count  410608.000000        409378.000000            411804.000000   \n",
       "mean       71.852139            72.060828            112096.199420   \n",
       "std      1368.322990           513.636565            162240.412405   \n",
       "min         0.000000             0.000000                 0.000000   \n",
       "25%         0.000000             0.000000              1916.100000   \n",
       "50%         0.000000             0.000000             29145.480000   \n",
       "75%         0.000000             3.140000            156770.190000   \n",
       "max    103719.000000         14817.000000            763598.600000   \n",
       "\n",
       "       new_cases_per_million  new_cases_smoothed_per_million  \\\n",
       "count          410159.000000                   408929.000000   \n",
       "mean              122.357073                      122.713852   \n",
       "std              1508.778585                      559.701663   \n",
       "min                 0.000000                        0.000000   \n",
       "25%                 0.000000                        0.000000   \n",
       "50%                 0.000000                        2.790000   \n",
       "75%                 0.000000                       56.250000   \n",
       "max            241758.230000                    34536.890000   \n",
       "\n",
       "       total_deaths_per_million  ...   male_smokers  handwashing_facilities  \\\n",
       "count             411804.000000  ...  243817.000000           161741.000000   \n",
       "mean                 835.514337  ...      33.097758               50.649390   \n",
       "std                 1134.932641  ...      13.853952               31.905236   \n",
       "min                    0.000000  ...       7.700000                1.190000   \n",
       "25%                   24.570000  ...      22.600000               20.860000   \n",
       "50%                  295.090000  ...      33.100000               49.540000   \n",
       "75%                 1283.820000  ...      41.500000               82.500000   \n",
       "max                 6601.110000  ...      78.100000              100.000000   \n",
       "\n",
       "       hospital_beds_per_thousand  life_expectancy  human_development_index  \\\n",
       "count               290689.000000    390299.000000            319127.000000   \n",
       "mean                     3.106895        73.702098                 0.722178   \n",
       "std                      2.549168         7.387914                 0.149237   \n",
       "min                      0.100000        53.280000                 0.390000   \n",
       "25%                      1.300000        69.500000                 0.600000   \n",
       "50%                      2.500000        75.050000                 0.740000   \n",
       "75%                      4.210000        79.460000                 0.830000   \n",
       "max                     13.800000        86.750000                 0.960000   \n",
       "\n",
       "         population  excess_mortality_cumulative_absolute  \\\n",
       "count  4.294350e+05                          1.341100e+04   \n",
       "mean   1.520336e+08                          5.604765e+04   \n",
       "std    6.975408e+08                          1.568691e+05   \n",
       "min    4.700000e+01                         -3.772610e+04   \n",
       "25%    5.237980e+05                          1.765000e+02   \n",
       "50%    6.336393e+06                          6.815200e+03   \n",
       "75%    3.296952e+07                          3.912804e+04   \n",
       "max    7.975105e+09                          1.349776e+06   \n",
       "\n",
       "       excess_mortality_cumulative  excess_mortality  \\\n",
       "count                 13411.000000      13411.000000   \n",
       "mean                      9.766431         10.925353   \n",
       "std                      12.040658         24.560706   \n",
       "min                     -44.230000        -95.920000   \n",
       "25%                       2.060000         -1.500000   \n",
       "50%                       8.130000          5.660000   \n",
       "75%                      15.160000         15.575000   \n",
       "max                      78.080000        378.220000   \n",
       "\n",
       "       excess_mortality_cumulative_per_million  \n",
       "count                             13411.000000  \n",
       "mean                               1772.666404  \n",
       "std                                1991.892770  \n",
       "min                               -2936.450000  \n",
       "25%                                 116.875000  \n",
       "50%                                1270.800000  \n",
       "75%                                2883.025000  \n",
       "max                               10293.520000  \n",
       "\n",
       "[8 rows x 62 columns]"
      ]
     },
     "execution_count": 51,
     "metadata": {},
     "output_type": "execute_result"
    }
   ],
   "source": [
    "df.describe()"
   ]
  },
  {
   "cell_type": "code",
   "execution_count": 52,
   "metadata": {},
   "outputs": [],
   "source": [
    "# Step 4: Data cleaning\n",
    "# Keep necessary columns\n",
    "cols = [\"location\", \"date\", \"total_cases\", \"new_cases\", \"total_deaths\", \"new_deaths\", \"people_vaccinated\", \"population\"]\n",
    "df = df[cols]"
   ]
  },
  {
   "cell_type": "code",
   "execution_count": 53,
   "metadata": {},
   "outputs": [],
   "source": [
    "df[\"date\"]=pd.to_datetime(df[\"date\"], errors=\"coerce\")"
   ]
  },
  {
   "cell_type": "code",
   "execution_count": 54,
   "metadata": {},
   "outputs": [],
   "source": [
    "# Remove rows with missing location or date\n",
    "df = df.dropna(subset=['location', 'date'])"
   ]
  },
  {
   "cell_type": "code",
   "execution_count": 55,
   "metadata": {},
   "outputs": [],
   "source": [
    "# Fill NaNs in numeric columns with 0\n",
    "df.fillna(0, inplace=True)"
   ]
  },
  {
   "cell_type": "code",
   "execution_count": 56,
   "metadata": {},
   "outputs": [
    {
     "data": {
      "text/plain": [
       "array(['Afghanistan', 'Africa', 'Albania', 'Algeria', 'American Samoa',\n",
       "       'Andorra', 'Angola', 'Anguilla', 'Antigua and Barbuda',\n",
       "       'Argentina', 'Armenia', 'Aruba', 'Asia', 'Australia', 'Austria',\n",
       "       'Azerbaijan', 'Bahamas', 'Bahrain', 'Bangladesh', 'Barbados',\n",
       "       'Belarus', 'Belgium', 'Belize', 'Benin', 'Bermuda', 'Bhutan',\n",
       "       'Bolivia', 'Bonaire Sint Eustatius and Saba',\n",
       "       'Bosnia and Herzegovina', 'Botswana', 'Brazil',\n",
       "       'British Virgin Islands', 'Brunei', 'Bulgaria', 'Burkina Faso',\n",
       "       'Burundi', 'Cambodia', 'Cameroon', 'Canada', 'Cape Verde',\n",
       "       'Cayman Islands', 'Central African Republic', 'Chad', 'Chile',\n",
       "       'China', 'Colombia', 'Comoros', 'Congo', 'Cook Islands',\n",
       "       'Costa Rica', \"Cote d'Ivoire\", 'Croatia', 'Cuba', 'Curacao',\n",
       "       'Cyprus', 'Czechia', 'Democratic Republic of Congo', 'Denmark',\n",
       "       'Djibouti', 'Dominica', 'Dominican Republic', 'East Timor',\n",
       "       'Ecuador', 'Egypt', 'El Salvador', 'England', 'Equatorial Guinea',\n",
       "       'Eritrea', 'Estonia', 'Eswatini', 'Ethiopia', 'Europe',\n",
       "       'European Union (27)', 'Faroe Islands', 'Falkland Islands', 'Fiji',\n",
       "       'Finland', 'France', 'French Guiana', 'French Polynesia', 'Gabon',\n",
       "       'Gambia', 'Georgia', 'Germany', 'Ghana', 'Gibraltar', 'Greece',\n",
       "       'Greenland', 'Grenada', 'Guadeloupe', 'Guam', 'Guatemala',\n",
       "       'Guernsey', 'Guinea', 'Guinea-Bissau', 'Guyana', 'Haiti',\n",
       "       'High-income countries', 'Honduras', 'Hong Kong', 'Hungary',\n",
       "       'Iceland', 'India', 'Indonesia', 'Iran', 'Iraq', 'Ireland',\n",
       "       'Isle of Man', 'Israel', 'Italy', 'Jamaica', 'Japan', 'Jersey',\n",
       "       'Jordan', 'Kazakhstan', 'Kenya', 'Kiribati', 'Kosovo', 'Kuwait',\n",
       "       'Kyrgyzstan', 'Laos', 'Latvia', 'Lebanon', 'Lesotho', 'Liberia',\n",
       "       'Libya', 'Liechtenstein', 'Lithuania', 'Low-income countries',\n",
       "       'Lower-middle-income countries', 'Luxembourg', 'Macao',\n",
       "       'Madagascar', 'Malawi', 'Malaysia', 'Maldives', 'Mali', 'Malta',\n",
       "       'Marshall Islands', 'Martinique', 'Mauritania', 'Mauritius',\n",
       "       'Mayotte', 'Mexico', 'Micronesia (country)', 'Moldova', 'Monaco',\n",
       "       'Mongolia', 'Montenegro', 'Montserrat', 'Morocco', 'Mozambique',\n",
       "       'Myanmar', 'Namibia', 'Nauru', 'Nepal', 'Netherlands',\n",
       "       'New Caledonia', 'New Zealand', 'Nicaragua', 'Niger', 'Nigeria',\n",
       "       'Niue', 'North America', 'North Korea', 'North Macedonia',\n",
       "       'Northern Cyprus', 'Northern Ireland', 'Northern Mariana Islands',\n",
       "       'Norway', 'Oceania', 'Oman', 'Pakistan', 'Palau', 'Palestine',\n",
       "       'Panama', 'Papua New Guinea', 'Paraguay', 'Peru', 'Philippines',\n",
       "       'Pitcairn', 'Poland', 'Portugal', 'Puerto Rico', 'Qatar',\n",
       "       'Reunion', 'Romania', 'Russia', 'Rwanda', 'Saint Barthelemy',\n",
       "       'Saint Helena', 'Saint Kitts and Nevis', 'Saint Lucia',\n",
       "       'Saint Martin (French part)', 'Saint Pierre and Miquelon',\n",
       "       'Saint Vincent and the Grenadines', 'Samoa', 'San Marino',\n",
       "       'Sao Tome and Principe', 'Saudi Arabia', 'Scotland', 'Senegal',\n",
       "       'Serbia', 'Seychelles', 'Sierra Leone', 'Singapore',\n",
       "       'Sint Maarten (Dutch part)', 'Slovakia', 'Slovenia',\n",
       "       'Solomon Islands', 'Somalia', 'South Africa', 'South America',\n",
       "       'South Korea', 'South Sudan', 'Spain', 'Sri Lanka', 'Sudan',\n",
       "       'Suriname', 'Sweden', 'Switzerland', 'Syria', 'Taiwan',\n",
       "       'Tajikistan', 'Tanzania', 'Thailand', 'Togo', 'Tokelau', 'Tonga',\n",
       "       'Trinidad and Tobago', 'Tunisia', 'Turkey', 'Turkmenistan',\n",
       "       'Turks and Caicos Islands', 'Tuvalu', 'Uganda', 'Ukraine',\n",
       "       'United Arab Emirates', 'United Kingdom', 'United States',\n",
       "       'United States Virgin Islands', 'Upper-middle-income countries',\n",
       "       'Uruguay', 'Uzbekistan', 'Vanuatu', 'Vatican', 'Venezuela',\n",
       "       'Vietnam', 'Wales', 'Wallis and Futuna', 'Western Sahara', 'World',\n",
       "       'Yemen', 'Zambia', 'Zimbabwe'], dtype=object)"
      ]
     },
     "execution_count": 56,
     "metadata": {},
     "output_type": "execute_result"
    }
   ],
   "source": [
    "df[\"location\"].unique()"
   ]
  },
  {
   "cell_type": "code",
   "execution_count": 57,
   "metadata": {},
   "outputs": [],
   "source": [
    "# Filter out aggregate rows\n",
    "df=df[~df[\"location\"].isin([\"World\",\"Africa\",\"Asia\",\"Europe\",\"North America\", \"Oceania\",\"South America\", \"High income\", \"Low income\", \"Lower middle income\", \"Upper middle income\", \"European Union\", \"European Union (27)\"])]\n",
    "# Remove rows with population <= 0\n",
    "df = df[df[\"population\"] > 0]\n",
    "# Remove rows with total_cases < 0\n",
    "df = df[df[\"total_cases\"] >= 0]\n",
    "# Remove rows with total_deaths < 0\n",
    "df = df[df[\"total_deaths\"] >= 0]\n",
    "# Remove rows with new_cases < 0\n",
    "df = df[df[\"new_cases\"] >= 0]\n",
    "# Remove rows with new_deaths < 0\n",
    "df = df[df[\"new_deaths\"] >= 0]\n",
    "# Remove rows with people_vaccinated < 0\n",
    "df = df[df[\"people_vaccinated\"] >= 0]   "
   ]
  },
  {
   "cell_type": "code",
   "execution_count": 58,
   "metadata": {},
   "outputs": [
    {
     "data": {
      "application/vnd.microsoft.datawrangler.viewer.v0+json": {
       "columns": [
        {
         "name": "index",
         "rawType": "int64",
         "type": "integer"
        },
        {
         "name": "location",
         "rawType": "object",
         "type": "string"
        },
        {
         "name": "date",
         "rawType": "datetime64[ns]",
         "type": "datetime"
        },
        {
         "name": "total_cases",
         "rawType": "float64",
         "type": "float"
        },
        {
         "name": "new_cases",
         "rawType": "float64",
         "type": "float"
        },
        {
         "name": "total_deaths",
         "rawType": "float64",
         "type": "float"
        },
        {
         "name": "new_deaths",
         "rawType": "float64",
         "type": "float"
        },
        {
         "name": "people_vaccinated",
         "rawType": "float64",
         "type": "float"
        },
        {
         "name": "population",
         "rawType": "int64",
         "type": "integer"
        }
       ],
       "ref": "f727b43d-3641-494b-99cc-066c5d5ce047",
       "rows": [
        [
         "422728",
         "Western Sahara",
         "2022-04-20 00:00:00",
         "0.0",
         "0.0",
         "0.0",
         "0.0",
         "0.0",
         "576005"
        ],
        [
         "282897",
         "Northern Cyprus",
         "2022-12-06 00:00:00",
         "0.0",
         "0.0",
         "0.0",
         "0.0",
         "0.0",
         "382836"
        ],
        [
         "225269",
         "Macao",
         "2023-04-13 00:00:00",
         "0.0",
         "0.0",
         "0.0",
         "0.0",
         "679703.0",
         "695180"
        ],
        [
         "421053",
         "Wales",
         "2023-07-12 00:00:00",
         "0.0",
         "0.0",
         "0.0",
         "0.0",
         "0.0",
         "3170000"
        ],
        [
         "375651",
         "Taiwan",
         "2023-09-24 00:00:00",
         "0.0",
         "0.0",
         "0.0",
         "0.0",
         "21899240.0",
         "23893396"
        ],
        [
         "339149",
         "Scotland",
         "2023-10-02 00:00:00",
         "0.0",
         "0.0",
         "0.0",
         "0.0",
         "0.0",
         "5466000"
        ],
        [
         "110190",
         "England",
         "2023-12-08 00:00:00",
         "0.0",
         "0.0",
         "0.0",
         "0.0",
         "0.0",
         "56550000"
        ],
        [
         "284269",
         "Northern Ireland",
         "2023-12-11 00:00:00",
         "0.0",
         "0.0",
         "0.0",
         "0.0",
         "0.0",
         "1896000"
        ],
        [
         "282206",
         "North Macedonia",
         "2024-08-04 00:00:00",
         "350924.0",
         "116.0",
         "9978.0",
         "0.0",
         "0.0",
         "2093606"
        ],
        [
         "405124",
         "United States",
         "2024-08-04 00:00:00",
         "103436829.0",
         "0.0",
         "1193165.0",
         "619.0",
         "0.0",
         "338289856"
        ],
        [
         "16743",
         "Argentina",
         "2024-08-04 00:00:00",
         "10101218.0",
         "54.0",
         "130663.0",
         "1.0",
         "0.0",
         "45510324"
        ],
        [
         "290972",
         "Oman",
         "2024-08-04 00:00:00",
         "399449.0",
         "0.0",
         "4628.0",
         "0.0",
         "0.0",
         "4576300"
        ],
        [
         "1673",
         "Afghanistan",
         "2024-08-04 00:00:00",
         "235214.0",
         "0.0",
         "7998.0",
         "0.0",
         "0.0",
         "41128772"
        ],
        [
         "292646",
         "Pakistan",
         "2024-08-04 00:00:00",
         "1580631.0",
         "0.0",
         "30656.0",
         "0.0",
         "0.0",
         "235824864"
        ],
        [
         "287617",
         "Norway",
         "2024-08-04 00:00:00",
         "1512647.0",
         "745.0",
         "5732.0",
         "0.0",
         "0.0",
         "5434324"
        ],
        [
         "285943",
         "Northern Mariana Islands",
         "2024-08-04 00:00:00",
         "14912.0",
         "31.0",
         "41.0",
         "0.0",
         "0.0",
         "49574"
        ],
        [
         "360911",
         "South Korea",
         "2024-08-04 00:00:00",
         "34571873.0",
         "0.0",
         "35934.0",
         "0.0",
         "0.0",
         "51815808"
        ],
        [
         "277184",
         "Niue",
         "2024-08-04 00:00:00",
         "1074.0",
         "0.0",
         "0.0",
         "0.0",
         "0.0",
         "1952"
        ],
        [
         "23449",
         "Australia",
         "2024-08-04 00:00:00",
         "11861161.0",
         "0.0",
         "25236.0",
         "0.0",
         "0.0",
         "26177410"
        ],
        [
         "419855",
         "Vietnam",
         "2024-08-04 00:00:00",
         "11624000.0",
         "0.0",
         "43206.0",
         "0.0",
         "0.0",
         "98186856"
        ],
        [
         "253741",
         "Montenegro",
         "2024-08-04 00:00:00",
         "251280.0",
         "0.0",
         "2654.0",
         "0.0",
         "0.0",
         "627082"
        ],
        [
         "255415",
         "Montserrat",
         "2024-08-04 00:00:00",
         "1403.0",
         "0.0",
         "8.0",
         "0.0",
         "0.0",
         "4413"
        ],
        [
         "418181",
         "Venezuela",
         "2024-08-04 00:00:00",
         "552695.0",
         "0.0",
         "5856.0",
         "0.0",
         "0.0",
         "28301700"
        ],
        [
         "257089",
         "Morocco",
         "2024-08-04 00:00:00",
         "1279115.0",
         "0.0",
         "16305.0",
         "0.0",
         "0.0",
         "37457976"
        ],
        [
         "416507",
         "Vatican",
         "2024-08-04 00:00:00",
         "26.0",
         "0.0",
         "0.0",
         "0.0",
         "0.0",
         "808"
        ],
        [
         "258763",
         "Mozambique",
         "2024-08-04 00:00:00",
         "233843.0",
         "0.0",
         "2252.0",
         "0.0",
         "0.0",
         "32969520"
        ],
        [
         "260437",
         "Myanmar",
         "2024-08-04 00:00:00",
         "642885.0",
         "26.0",
         "19494.0",
         "0.0",
         "0.0",
         "54179312"
        ],
        [
         "414833",
         "Vanuatu",
         "2024-08-04 00:00:00",
         "12019.0",
         "0.0",
         "14.0",
         "0.0",
         "0.0",
         "326744"
        ],
        [
         "262111",
         "Namibia",
         "2024-08-04 00:00:00",
         "172533.0",
         "0.0",
         "4108.0",
         "0.0",
         "0.0",
         "2567024"
        ],
        [
         "413159",
         "Uzbekistan",
         "2024-08-04 00:00:00",
         "175081.0",
         "0.0",
         "1016.0",
         "0.0",
         "0.0",
         "34627648"
        ],
        [
         "280532",
         "North Korea",
         "2024-08-04 00:00:00",
         "0.0",
         "0.0",
         "0.0",
         "0.0",
         "0.0",
         "26069416"
        ],
        [
         "263785",
         "Nauru",
         "2024-08-04 00:00:00",
         "5393.0",
         "0.0",
         "1.0",
         "0.0",
         "0.0",
         "12691"
        ],
        [
         "20091",
         "Aruba",
         "2024-08-04 00:00:00",
         "44224.0",
         "0.0",
         "292.0",
         "0.0",
         "0.0",
         "106459"
        ],
        [
         "267133",
         "Netherlands",
         "2024-08-04 00:00:00",
         "8640008.0",
         "383.0",
         "22986.0",
         "0.0",
         "0.0",
         "17564020"
        ],
        [
         "411485",
         "Uruguay",
         "2024-08-04 00:00:00",
         "1041346.0",
         "15.0",
         "7682.0",
         "0.0",
         "0.0",
         "3422796"
        ],
        [
         "268807",
         "New Caledonia",
         "2024-08-04 00:00:00",
         "80163.0",
         "0.0",
         "314.0",
         "0.0",
         "0.0",
         "289959"
        ],
        [
         "272162",
         "Nicaragua",
         "2024-08-04 00:00:00",
         "16185.0",
         "2.0",
         "245.0",
         "0.0",
         "0.0",
         "6948395"
        ],
        [
         "273836",
         "Niger",
         "2024-08-04 00:00:00",
         "9518.0",
         "0.0",
         "315.0",
         "0.0",
         "0.0",
         "26207982"
        ],
        [
         "18417",
         "Armenia",
         "2024-08-04 00:00:00",
         "452273.0",
         "0.0",
         "8777.0",
         "0.0",
         "0.0",
         "2780472"
        ],
        [
         "275510",
         "Nigeria",
         "2024-08-04 00:00:00",
         "267188.0",
         "0.0",
         "3155.0",
         "0.0",
         "0.0",
         "218541216"
        ],
        [
         "406798",
         "United States Virgin Islands",
         "2024-08-04 00:00:00",
         "25389.0",
         "0.0",
         "132.0",
         "0.0",
         "0.0",
         "99479"
        ],
        [
         "265459",
         "Nepal",
         "2024-08-04 00:00:00",
         "1003450.0",
         "0.0",
         "12031.0",
         "0.0",
         "0.0",
         "30547586"
        ],
        [
         "294320",
         "Palau",
         "2024-08-04 00:00:00",
         "6372.0",
         "0.0",
         "10.0",
         "0.0",
         "0.0",
         "18084"
        ],
        [
         "391732",
         "Turkey",
         "2024-08-04 00:00:00",
         "17004718.0",
         "0.0",
         "101419.0",
         "0.0",
         "0.0",
         "85341248"
        ],
        [
         "295994",
         "Palestine",
         "2024-08-04 00:00:00",
         "703228.0",
         "0.0",
         "5708.0",
         "0.0",
         "0.0",
         "5250076"
        ],
        [
         "377325",
         "Tajikistan",
         "2024-08-04 00:00:00",
         "17786.0",
         "0.0",
         "125.0",
         "0.0",
         "0.0",
         "9952789"
        ],
        [
         "329474",
         "Saint Pierre and Miquelon",
         "2024-08-04 00:00:00",
         "3426.0",
         "0.0",
         "2.0",
         "0.0",
         "0.0",
         "5885"
        ],
        [
         "6695",
         "Algeria",
         "2024-08-04 00:00:00",
         "272139.0",
         "18.0",
         "6881.0",
         "0.0",
         "0.0",
         "44903228"
        ],
        [
         "374303",
         "Syria",
         "2024-08-04 00:00:00",
         "57423.0",
         "0.0",
         "3163.0",
         "0.0",
         "0.0",
         "22125242"
        ],
        [
         "331148",
         "Saint Vincent and the Grenadines",
         "2024-08-04 00:00:00",
         "9674.0",
         "0.0",
         "124.0",
         "0.0",
         "0.0",
         "103959"
        ]
       ],
       "shape": {
        "columns": 8,
        "rows": 247
       }
      },
      "text/html": [
       "<div>\n",
       "<style scoped>\n",
       "    .dataframe tbody tr th:only-of-type {\n",
       "        vertical-align: middle;\n",
       "    }\n",
       "\n",
       "    .dataframe tbody tr th {\n",
       "        vertical-align: top;\n",
       "    }\n",
       "\n",
       "    .dataframe thead th {\n",
       "        text-align: right;\n",
       "    }\n",
       "</style>\n",
       "<table border=\"1\" class=\"dataframe\">\n",
       "  <thead>\n",
       "    <tr style=\"text-align: right;\">\n",
       "      <th></th>\n",
       "      <th>location</th>\n",
       "      <th>date</th>\n",
       "      <th>total_cases</th>\n",
       "      <th>new_cases</th>\n",
       "      <th>total_deaths</th>\n",
       "      <th>new_deaths</th>\n",
       "      <th>people_vaccinated</th>\n",
       "      <th>population</th>\n",
       "    </tr>\n",
       "  </thead>\n",
       "  <tbody>\n",
       "    <tr>\n",
       "      <th>422728</th>\n",
       "      <td>Western Sahara</td>\n",
       "      <td>2022-04-20</td>\n",
       "      <td>0.0</td>\n",
       "      <td>0.0</td>\n",
       "      <td>0.0</td>\n",
       "      <td>0.0</td>\n",
       "      <td>0.000000e+00</td>\n",
       "      <td>576005</td>\n",
       "    </tr>\n",
       "    <tr>\n",
       "      <th>282897</th>\n",
       "      <td>Northern Cyprus</td>\n",
       "      <td>2022-12-06</td>\n",
       "      <td>0.0</td>\n",
       "      <td>0.0</td>\n",
       "      <td>0.0</td>\n",
       "      <td>0.0</td>\n",
       "      <td>0.000000e+00</td>\n",
       "      <td>382836</td>\n",
       "    </tr>\n",
       "    <tr>\n",
       "      <th>225269</th>\n",
       "      <td>Macao</td>\n",
       "      <td>2023-04-13</td>\n",
       "      <td>0.0</td>\n",
       "      <td>0.0</td>\n",
       "      <td>0.0</td>\n",
       "      <td>0.0</td>\n",
       "      <td>6.797030e+05</td>\n",
       "      <td>695180</td>\n",
       "    </tr>\n",
       "    <tr>\n",
       "      <th>421053</th>\n",
       "      <td>Wales</td>\n",
       "      <td>2023-07-12</td>\n",
       "      <td>0.0</td>\n",
       "      <td>0.0</td>\n",
       "      <td>0.0</td>\n",
       "      <td>0.0</td>\n",
       "      <td>0.000000e+00</td>\n",
       "      <td>3170000</td>\n",
       "    </tr>\n",
       "    <tr>\n",
       "      <th>375651</th>\n",
       "      <td>Taiwan</td>\n",
       "      <td>2023-09-24</td>\n",
       "      <td>0.0</td>\n",
       "      <td>0.0</td>\n",
       "      <td>0.0</td>\n",
       "      <td>0.0</td>\n",
       "      <td>2.189924e+07</td>\n",
       "      <td>23893396</td>\n",
       "    </tr>\n",
       "    <tr>\n",
       "      <th>...</th>\n",
       "      <td>...</td>\n",
       "      <td>...</td>\n",
       "      <td>...</td>\n",
       "      <td>...</td>\n",
       "      <td>...</td>\n",
       "      <td>...</td>\n",
       "      <td>...</td>\n",
       "      <td>...</td>\n",
       "    </tr>\n",
       "    <tr>\n",
       "      <th>93765</th>\n",
       "      <td>Czechia</td>\n",
       "      <td>2024-08-12</td>\n",
       "      <td>0.0</td>\n",
       "      <td>0.0</td>\n",
       "      <td>0.0</td>\n",
       "      <td>0.0</td>\n",
       "      <td>0.000000e+00</td>\n",
       "      <td>10493990</td>\n",
       "    </tr>\n",
       "    <tr>\n",
       "      <th>217093</th>\n",
       "      <td>Lithuania</td>\n",
       "      <td>2024-08-14</td>\n",
       "      <td>0.0</td>\n",
       "      <td>0.0</td>\n",
       "      <td>0.0</td>\n",
       "      <td>0.0</td>\n",
       "      <td>1.958300e+06</td>\n",
       "      <td>2750058</td>\n",
       "    </tr>\n",
       "    <tr>\n",
       "      <th>230301</th>\n",
       "      <td>Malaysia</td>\n",
       "      <td>2024-08-14</td>\n",
       "      <td>0.0</td>\n",
       "      <td>0.0</td>\n",
       "      <td>0.0</td>\n",
       "      <td>0.0</td>\n",
       "      <td>2.813857e+07</td>\n",
       "      <td>33938216</td>\n",
       "    </tr>\n",
       "    <tr>\n",
       "      <th>408137</th>\n",
       "      <td>Upper-middle-income countries</td>\n",
       "      <td>2024-08-14</td>\n",
       "      <td>0.0</td>\n",
       "      <td>0.0</td>\n",
       "      <td>0.0</td>\n",
       "      <td>0.0</td>\n",
       "      <td>2.109015e+09</td>\n",
       "      <td>2525921300</td>\n",
       "    </tr>\n",
       "    <tr>\n",
       "      <th>165198</th>\n",
       "      <td>High-income countries</td>\n",
       "      <td>2024-08-14</td>\n",
       "      <td>0.0</td>\n",
       "      <td>0.0</td>\n",
       "      <td>0.0</td>\n",
       "      <td>0.0</td>\n",
       "      <td>9.987230e+08</td>\n",
       "      <td>1250514600</td>\n",
       "    </tr>\n",
       "  </tbody>\n",
       "</table>\n",
       "<p>247 rows × 8 columns</p>\n",
       "</div>"
      ],
      "text/plain": [
       "                             location       date  total_cases  new_cases  \\\n",
       "422728                 Western Sahara 2022-04-20          0.0        0.0   \n",
       "282897                Northern Cyprus 2022-12-06          0.0        0.0   \n",
       "225269                          Macao 2023-04-13          0.0        0.0   \n",
       "421053                          Wales 2023-07-12          0.0        0.0   \n",
       "375651                         Taiwan 2023-09-24          0.0        0.0   \n",
       "...                               ...        ...          ...        ...   \n",
       "93765                         Czechia 2024-08-12          0.0        0.0   \n",
       "217093                      Lithuania 2024-08-14          0.0        0.0   \n",
       "230301                       Malaysia 2024-08-14          0.0        0.0   \n",
       "408137  Upper-middle-income countries 2024-08-14          0.0        0.0   \n",
       "165198          High-income countries 2024-08-14          0.0        0.0   \n",
       "\n",
       "        total_deaths  new_deaths  people_vaccinated  population  \n",
       "422728           0.0         0.0       0.000000e+00      576005  \n",
       "282897           0.0         0.0       0.000000e+00      382836  \n",
       "225269           0.0         0.0       6.797030e+05      695180  \n",
       "421053           0.0         0.0       0.000000e+00     3170000  \n",
       "375651           0.0         0.0       2.189924e+07    23893396  \n",
       "...              ...         ...                ...         ...  \n",
       "93765            0.0         0.0       0.000000e+00    10493990  \n",
       "217093           0.0         0.0       1.958300e+06     2750058  \n",
       "230301           0.0         0.0       2.813857e+07    33938216  \n",
       "408137           0.0         0.0       2.109015e+09  2525921300  \n",
       "165198           0.0         0.0       9.987230e+08  1250514600  \n",
       "\n",
       "[247 rows x 8 columns]"
      ]
     },
     "execution_count": 58,
     "metadata": {},
     "output_type": "execute_result"
    }
   ],
   "source": [
    "# Step 5: Create summary statistics\n",
    "latest = df.sort_values('date').groupby('location').tail(1)\n",
    "latest"
   ]
  },
  {
   "cell_type": "code",
   "execution_count": 59,
   "metadata": {},
   "outputs": [],
   "source": [
    "# Calculate cases per million\n",
    "latest['cases_per_million'] = latest['total_cases'] / latest['population'] * 1e6\n",
    "latest['deaths_per_million'] = latest['total_deaths'] / latest['population'] * 1e6\n",
    "latest['vaccinated_pct'] = latest['people_vaccinated'] / latest['population'] * 100\n"
   ]
  },
  {
   "cell_type": "code",
   "execution_count": 60,
   "metadata": {},
   "outputs": [
    {
     "data": {
      "image/png": "[encoded data removed]",
      "text/plain": [
       "<Figure size 640x480 with 1 Axes>"
      ]
     },
     "metadata": {},
     "output_type": "display_data"
    }
   ],
   "source": [
    "# Step 6: Top 10 countries by total cases\n",
    "top10_cases = latest.sort_values('total_cases', ascending=False).head(10)\n",
    "sns.barplot(data=top10_cases, x='total_cases', y='location', palette='Reds_r')\n",
    "plt.title(\"Top 10 Countries by Total COVID-19 Cases\")\n",
    "plt.xlabel(\"Total Cases\")\n",
    "plt.ylabel(\"Country\")\n",
    "plt.tight_layout()\n",
    "plt.savefig(\"top10_total_cases.png\")\n",
    "plt.show()"
   ]
  },
  {
   "cell_type": "code",
   "execution_count": null,
   "metadata": {},
   "outputs": [],
   "source": []
  },
  {
   "cell_type": "code",
   "execution_count": 61,
   "metadata": {},
   "outputs": [
    {
     "data": {
      "image/png": "[encoded data removed]",
      "text/plain": [
       "<Figure size 640x480 with 1 Axes>"
      ]
     },
     "metadata": {},
     "output_type": "display_data"
    }
   ],
   "source": [
    "# Add CFR = total_deaths / total_cases\n",
    "latest[\"case_fatality_rate\"] = latest[\"total_deaths\"] / latest[\"total_cases\"] * 100\n",
    "\n",
    "# Top 10 CFRs (only for countries with over 100K cases)\n",
    "cfr_cut = latest[latest[\"total_cases\"] > 100_000]\n",
    "top_cfr = cfr_cut.sort_values(\"case_fatality_rate\", ascending=False).head(10)\n",
    "\n",
    "# Plot\n",
    "sns.barplot(data=top_cfr, x=\"case_fatality_rate\", y=\"location\", palette=\"magma\")\n",
    "plt.title(\"Top 10 Countries by Case Fatality Rate (with >100K cases)\")\n",
    "plt.xlabel(\"Case Fatality Rate (%)\")\n",
    "plt.tight_layout()\n",
    "plt.show()\n"
   ]
  },
  {
   "cell_type": "code",
   "execution_count": 62,
   "metadata": {},
   "outputs": [
    {
     "data": {
      "image/png": "[encoded data removed]",
      "text/plain": [
       "<Figure size 640x480 with 1 Axes>"
      ]
     },
     "metadata": {},
     "output_type": "display_data"
    }
   ],
   "source": [
    "# Step 7: Deaths per Million - Heatmap View\n",
    "top20_deaths = latest.sort_values(\"deaths_per_million\", ascending=False).head(20)\n",
    "sns.barplot(data=top20_deaths, x='deaths_per_million', y='location', palette='coolwarm')\n",
    "plt.title(\"Top 20 Countries by Deaths per Million\")\n",
    "plt.xlabel(\"Deaths per Million\")\n",
    "plt.ylabel(\"Country\")\n",
    "plt.tight_layout()\n",
    "plt.show()"
   ]
  },
  {
   "cell_type": "code",
   "execution_count": 63,
   "metadata": {},
   "outputs": [
    {
     "name": "stdout",
     "output_type": "stream",
     "text": [
      "Top 10 countries to reach 50% vaccinated:\n",
      "             location       date  vaccinated_pct\n",
      "52          Gibraltar 2021-02-17       50.139242\n",
      "124        Seychelles 2021-02-27       52.166892\n",
      "69             Israel 2021-02-28       50.078305\n",
      "117      Saint Helena 2021-03-15       57.526384\n",
      "45   Falkland Islands 2021-03-26       57.537490\n",
      "15             Bhutan 2021-03-31       50.451974\n",
      "68        Isle of Man 2021-04-08       50.978305\n",
      "86           Maldives 2021-04-08       50.636887\n",
      "155             Wales 2021-04-11       50.089937\n",
      "123          Scotland 2021-04-16       50.007080\n"
     ]
    }
   ],
   "source": [
    "# Milestone: 50% vaccinated population\n",
    "vax_progress = df[df['people_vaccinated'] > 0].copy()\n",
    "vax_progress['vaccinated_pct'] = vax_progress['people_vaccinated'] / vax_progress['population'] * 100\n",
    "\n",
    "# Find the first date each country crossed 50%\n",
    "milestone_50 = vax_progress[vax_progress['vaccinated_pct'] >= 50]\n",
    "first_50 = milestone_50.sort_values('date').groupby('location').first().reset_index()\n",
    "\n",
    "# Top 10 countries that reached it earliest\n",
    "fastest_vaxx = first_50.sort_values(\"date\").head(10)\n",
    "print(\"Top 10 countries to reach 50% vaccinated:\")\n",
    "print(fastest_vaxx[['location', 'date', 'vaccinated_pct']])\n"
   ]
  },
  {
   "cell_type": "code",
   "execution_count": 64,
   "metadata": {},
   "outputs": [
    {
     "data": {
      "image/png": "[encoded data removed]",
      "text/plain": [
       "<Figure size 640x480 with 1 Axes>"
      ]
     },
     "metadata": {},
     "output_type": "display_data"
    }
   ],
   "source": [
    "#  Step 8: Trend Over Time (Global Summary)\n",
    "global_c = df.groupby(\"date\")[[\"new_cases\", \"new_deaths\"]].sum().reset_index()\n",
    "sns.lineplot(data=global_c, x=\"date\", y=\"new_cases\", label=\"New Cases\", color='blue')\n",
    "sns.lineplot(data=global_c, x=\"date\", y=\"new_deaths\", label=\"New Deaths\", color='red')\n",
    "plt.title(\"Global Daily COVID-19 Cases and Deaths Over Time\")\n",
    "plt.xlabel(\"Date\")\n",
    "plt.ylabel(\"Count\")\n",
    "plt.legend()\n",
    "plt.show()"
   ]
  }
 ],
 "metadata": {
  "kernelspec": {
   "display_name": "base",
   "language": "python",
   "name": "python3"
  },
  "language_info": {
   "codemirror_mode": {
    "name": "ipython",
    "version": 3
   },
   "file_extension": ".py",
   "mimetype": "text/x-python",
   "name": "python",
   "nbconvert_exporter": "python",
   "pygments_lexer": "ipython3",
   "version": "3.12.7"
  }
 },
 "nbformat": 4,
 "nbformat_minor": 2
}
